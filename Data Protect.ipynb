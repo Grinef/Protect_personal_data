{
 "cells": [
  {
   "cell_type": "markdown",
   "metadata": {
    "toc": true
   },
   "source": [
    "<h1>Содержание<span class=\"tocSkip\"></span></h1>\n",
    "<div class=\"toc\"><ul class=\"toc-item\"><li><span><a href=\"#Загрузка-данных\" data-toc-modified-id=\"Загрузка-данных-1\"><span class=\"toc-item-num\">1&nbsp;&nbsp;</span>Загрузка данных</a></span></li><li><span><a href=\"#Умножение-матриц\" data-toc-modified-id=\"Умножение-матриц-2\"><span class=\"toc-item-num\">2&nbsp;&nbsp;</span>Умножение матриц</a></span></li><li><span><a href=\"#Алгоритм-преобразования\" data-toc-modified-id=\"Алгоритм-преобразования-3\"><span class=\"toc-item-num\">3&nbsp;&nbsp;</span>Алгоритм преобразования</a></span></li><li><span><a href=\"#Проверка-алгоритма\" data-toc-modified-id=\"Проверка-алгоритма-4\"><span class=\"toc-item-num\">4&nbsp;&nbsp;</span>Проверка алгоритма</a></span><ul class=\"toc-item\"><li><span><a href=\"#Обучение-модели-на-исходных-данных\" data-toc-modified-id=\"Обучение-модели-на-исходных-данных-4.1\"><span class=\"toc-item-num\">4.1&nbsp;&nbsp;</span>Обучение модели на исходных данных</a></span></li><li><span><a href=\"#Преобразование-исходных-данных-и-повторное-обучение-модели.\" data-toc-modified-id=\"Преобразование-исходных-данных-и-повторное-обучение-модели.-4.2\"><span class=\"toc-item-num\">4.2&nbsp;&nbsp;</span>Преобразование исходных данных и повторное обучение модели.</a></span></li></ul></li><li><span><a href=\"#Чек-лист-проверки\" data-toc-modified-id=\"Чек-лист-проверки-5\"><span class=\"toc-item-num\">5&nbsp;&nbsp;</span>Чек-лист проверки</a></span></li></ul></div>"
   ]
  },
  {
   "cell_type": "markdown",
   "metadata": {},
   "source": [
    "# Защита персональных данных клиентов"
   ]
  },
  {
   "cell_type": "markdown",
   "metadata": {},
   "source": [
    "Вам нужно защитить данные клиентов страховой компании «Хоть потоп». Разработайте такой метод преобразования данных, чтобы по ним было сложно восстановить персональную информацию. Обоснуйте корректность его работы.\n",
    "\n",
    "Нужно защитить данные, чтобы при преобразовании качество моделей машинного обучения не ухудшилось. Подбирать наилучшую модель не требуется."
   ]
  },
  {
   "cell_type": "code",
   "execution_count": 1,
   "metadata": {},
   "outputs": [],
   "source": [
    "# блок для импорта библиотек\n",
    "import pandas as pd\n",
    "import numpy as np\n",
    "\n",
    "import matplotlib.pyplot as plt\n",
    "from sklearn.metrics import r2_score"
   ]
  },
  {
   "cell_type": "markdown",
   "metadata": {},
   "source": [
    "## Загрузка данных"
   ]
  },
  {
   "cell_type": "raw",
   "metadata": {},
   "source": [
    "path = 'C:\\\\Users\\\\Grine\\\\Desktop\\\\GitHub\\\\insurance-project-06.2023\\\\'\n",
    "file_name = 'insurance.csv'\n",
    "df = pd.read_csv(path + file_name)"
   ]
  },
  {
   "cell_type": "code",
   "execution_count": 2,
   "metadata": {},
   "outputs": [],
   "source": [
    "df = pd.read_csv('https://code.s3.yandex.net/datasets/insurance.csv')"
   ]
  },
  {
   "cell_type": "code",
   "execution_count": 3,
   "metadata": {},
   "outputs": [
    {
     "name": "stdout",
     "output_type": "stream",
     "text": [
      "<class 'pandas.core.frame.DataFrame'>\n",
      "RangeIndex: 5000 entries, 0 to 4999\n",
      "Data columns (total 5 columns):\n",
      " #   Column             Non-Null Count  Dtype  \n",
      "---  ------             --------------  -----  \n",
      " 0   Пол                5000 non-null   int64  \n",
      " 1   Возраст            5000 non-null   float64\n",
      " 2   Зарплата           5000 non-null   float64\n",
      " 3   Члены семьи        5000 non-null   int64  \n",
      " 4   Страховые выплаты  5000 non-null   int64  \n",
      "dtypes: float64(2), int64(3)\n",
      "memory usage: 195.4 KB\n"
     ]
    }
   ],
   "source": [
    "df.info() # с типами данных всё в порядке."
   ]
  },
  {
   "cell_type": "code",
   "execution_count": 4,
   "metadata": {},
   "outputs": [
    {
     "data": {
      "text/html": [
       "<div>\n",
       "<style scoped>\n",
       "    .dataframe tbody tr th:only-of-type {\n",
       "        vertical-align: middle;\n",
       "    }\n",
       "\n",
       "    .dataframe tbody tr th {\n",
       "        vertical-align: top;\n",
       "    }\n",
       "\n",
       "    .dataframe thead th {\n",
       "        text-align: right;\n",
       "    }\n",
       "</style>\n",
       "<table border=\"1\" class=\"dataframe\">\n",
       "  <thead>\n",
       "    <tr style=\"text-align: right;\">\n",
       "      <th></th>\n",
       "      <th>Пол</th>\n",
       "      <th>Возраст</th>\n",
       "      <th>Зарплата</th>\n",
       "      <th>Члены семьи</th>\n",
       "      <th>Страховые выплаты</th>\n",
       "    </tr>\n",
       "  </thead>\n",
       "  <tbody>\n",
       "    <tr>\n",
       "      <th>0</th>\n",
       "      <td>1</td>\n",
       "      <td>41.0</td>\n",
       "      <td>49600.0</td>\n",
       "      <td>1</td>\n",
       "      <td>0</td>\n",
       "    </tr>\n",
       "    <tr>\n",
       "      <th>1</th>\n",
       "      <td>0</td>\n",
       "      <td>46.0</td>\n",
       "      <td>38000.0</td>\n",
       "      <td>1</td>\n",
       "      <td>1</td>\n",
       "    </tr>\n",
       "    <tr>\n",
       "      <th>2</th>\n",
       "      <td>0</td>\n",
       "      <td>29.0</td>\n",
       "      <td>21000.0</td>\n",
       "      <td>0</td>\n",
       "      <td>0</td>\n",
       "    </tr>\n",
       "    <tr>\n",
       "      <th>3</th>\n",
       "      <td>0</td>\n",
       "      <td>21.0</td>\n",
       "      <td>41700.0</td>\n",
       "      <td>2</td>\n",
       "      <td>0</td>\n",
       "    </tr>\n",
       "    <tr>\n",
       "      <th>4</th>\n",
       "      <td>1</td>\n",
       "      <td>28.0</td>\n",
       "      <td>26100.0</td>\n",
       "      <td>0</td>\n",
       "      <td>0</td>\n",
       "    </tr>\n",
       "  </tbody>\n",
       "</table>\n",
       "</div>"
      ],
      "text/plain": [
       "   Пол  Возраст  Зарплата  Члены семьи  Страховые выплаты\n",
       "0    1     41.0   49600.0            1                  0\n",
       "1    0     46.0   38000.0            1                  1\n",
       "2    0     29.0   21000.0            0                  0\n",
       "3    0     21.0   41700.0            2                  0\n",
       "4    1     28.0   26100.0            0                  0"
      ]
     },
     "execution_count": 4,
     "metadata": {},
     "output_type": "execute_result"
    }
   ],
   "source": [
    "df.head(5) # данные выглядят адекватно, кажется, что проводить предобработку не стоит."
   ]
  },
  {
   "cell_type": "code",
   "execution_count": 5,
   "metadata": {
    "scrolled": false
   },
   "outputs": [
    {
     "data": {
      "image/png": "[encoded data removed]",
      "text/plain": [
       "<Figure size 720x360 with 1 Axes>"
      ]
     },
     "metadata": {
      "needs_background": "light"
     },
     "output_type": "display_data"
    },
    {
     "data": {
      "image/png": "[encoded data removed]",
      "text/plain": [
       "<Figure size 720x360 with 1 Axes>"
      ]
     },
     "metadata": {
      "needs_background": "light"
     },
     "output_type": "display_data"
    },
    {
     "data": {
      "image/png": "[encoded data removed]",
      "text/plain": [
       "<Figure size 720x360 with 1 Axes>"
      ]
     },
     "metadata": {
      "needs_background": "light"
     },
     "output_type": "display_data"
    },
    {
     "data": {
      "image/png": "[encoded data removed]",
      "text/plain": [
       "<Figure size 720x360 with 1 Axes>"
      ]
     },
     "metadata": {
      "needs_background": "light"
     },
     "output_type": "display_data"
    }
   ],
   "source": [
    "# проверим наличие выбросов в данных:\n",
    "for f in df.columns:\n",
    "    max_value = df[f].quantile(0.75)*1.5  # расчитаем верхнюю границу размаха квантилей в \"усах\" боксплота.\n",
    "    if len(df[f][df[f] > max_value]) > 0: # если после фильтрации, данные сохраняются, отобразим ситуацию на графике\n",
    "        plt.figure(figsize=(10, 5)) \n",
    "        \n",
    "        # далее приведём признаки к одному масштабу и визуализируем, для наглядности объёмов стат выбросов.\n",
    "        if f == 'Зарплата':\n",
    "            plt.boxplot(df[f]/10000)\n",
    "            \n",
    "        elif f == 'Возраст':\n",
    "            plt.boxplot(df[f]/10)\n",
    "        \n",
    "        else:\n",
    "            plt.boxplot(df[f])\n",
    "        plt.title(f'Исследование статистических выбросов в признаке \"{f}\"')\n",
    "        plt.show()"
   ]
  },
  {
   "cell_type": "markdown",
   "metadata": {},
   "source": [
    "**В данных присутсвуют выбросы, однако, их кол-во сложно назвать критическим. Поэтому оставим всё как есть и перейдём к следующему этапу проекта.**"
   ]
  },
  {
   "cell_type": "markdown",
   "metadata": {},
   "source": [
    "## Умножение матриц"
   ]
  },
  {
   "cell_type": "markdown",
   "metadata": {},
   "source": [
    "**Вопрос:**\n",
    "\n",
    "Признаки умножают на обратимую матрицу. Изменится ли качество линейной регрессии? (Её можно обучить заново.)\n",
    "\n",
    "    a. Изменится. Приведите примеры матриц.\n",
    "    b. Не изменится. Укажите, как связаны параметры линейной регрессии в исходной задаче и в преобразованной.\n",
    "\n",
    "\n",
    "**Ответ:** \n",
    "    \n",
    "    b. Не изменится. \n",
    "\n",
    "**Обоснование:** \n",
    "    \n",
    "\n",
    "Действительно, качество линейной регрессии не изменится, если мы умножим признаки на обратимую матрицу. Это можно доказать алгебраически, используя свойства матриц. Давайте это сделаем. \n",
    "\n",
    "Пусть у нас есть исходная матрица признаков X и целевой признак y. Мы обучаем модель линейной регрессии и получаем вектор весов w. Вектор весов w можно выразить через матрицу X и вектор y следующим образом: \n",
    "\n",
    "$$\n",
    "w=(X T X) −1 X T y\n",
    "$$"
   ]
  },
  {
   "cell_type": "markdown",
   "metadata": {},
   "source": [
    "$$\n",
    "a = Xw = XEw = XPP^{-1}w = (XP)P^{-1}w = (XP)w'\n",
    "$$\n",
    "\n",
    "$$\n",
    "w' = ((XP)^T XP)^{-1} (XP)^T y\n",
    "$$\n",
    "$$\n",
    "w' = (P^T (X^T X) P)^{-1} (XP)^T y\n",
    "$$\n",
    "\n",
    "$$w' = P^{-1} ((X^T X)^{-1}) (P^T)^{-1} (XP)^T y$$\n",
    "\n",
    "\n",
    "$$w' = P^{-1} ((X^T X)^{-1}) P^{-T} (XP)^T y$$\n",
    "\n",
    "\n",
    "$$w' = P^{-1} ((X^T X)^{-1}) P^{-T} (P^TX^T) y$$\n",
    "\n",
    "\n",
    "$$w' = P^{-1} ((X^T X)^{-1} (P^{-T}P^T )X^T y$$\n",
    "\n",
    "\n",
    "$$w' = P^{-1} ((X^T X)^{-1} X^T) y$$\n",
    "\n",
    "\n",
    "$$w' = P^{-1}w$$"
   ]
  },
  {
   "cell_type": "markdown",
   "metadata": {},
   "source": [
    "## Алгоритм преобразования"
   ]
  },
  {
   "cell_type": "markdown",
   "metadata": {},
   "source": [
    "**Алгоритм**\n",
    "\n",
    "Пошагово:\n",
    "    \n",
    "    Сгенерируем псевдо-случайную обратимую матрицу P размера n x n, где n — это количество признаков в исходных данных.\n",
    "    \n",
    "    Умножим исходную матрицу признаков на получившуюся матрицу P. Это и будет наш новый набор данных.\n"
   ]
  },
  {
   "cell_type": "markdown",
   "metadata": {},
   "source": [
    "**Обоснование**\n",
    "\n",
    "    Мы знаем, что если признаки умножают на обратимую матрицу, то качество линейной регрессии не изменится. Поэтому даже после преобразования мы сможем получить те же предсказания. Однако обратная операция (восстановление исходных данных) будет затруднена без знания матрицы P. Поэтому нам необходимо зафикировать P в переменную.\n",
    "\n",
    "    Важно учесть, что матрица P должна быть размера n x n, где n — количество признаков. Если количество признаков не совпадает с количеством строк, то умножение на матрицу P не будет возможным. В данном случае у нас есть 4 признака, поэтому это не становится проблемой.\n",
    "\n",
    "    При использовании этого подхода следует также учесть, что не все матрицы являются обратимыми, поэтому при генерации матрицы P следует проверить её на обратимость. Если матрица не обратима, следует сгенерировать новую, пока не будет получена обратимая матрица."
   ]
  },
  {
   "cell_type": "markdown",
   "metadata": {},
   "source": [
    "## Проверка алгоритма"
   ]
  },
  {
   "cell_type": "markdown",
   "metadata": {},
   "source": [
    "### Обучение модели на исходных данных"
   ]
  },
  {
   "cell_type": "code",
   "execution_count": 7,
   "metadata": {},
   "outputs": [],
   "source": [
    "# разделим данные на тест и обучение\n",
    "def data_split(df):\n",
    "    X_train = df.sample(frac=0.8, random_state=42)\n",
    "    X_test = df.drop(X_train.index)\n",
    "    y_train, y_test = X_train['Страховые выплаты'].values, X_test['Страховые выплаты'].values\n",
    "\n",
    "    X_train, X_test = X_train.drop(columns='Страховые выплаты', axis=1), X_test.drop(columns='Страховые выплаты', axis=1)\n",
    "    return X_train, X_test, y_train, y_test\n",
    "\n",
    "X_train, X_test, y_train, y_test = data_split(df)"
   ]
  },
  {
   "cell_type": "code",
   "execution_count": 8,
   "metadata": {},
   "outputs": [],
   "source": [
    "# инциаилизируем класс модели\n",
    "class LinearRegression:\n",
    "    \"\"\"Класс для линейной регрессии\"\"\"\n",
    "\n",
    "    def fit(self, X_train, y_train):\n",
    "        \"\"\"\n",
    "        Обучает модель линейной регрессии.\n",
    "        \n",
    "        Параметры:\n",
    "        X_train : numpy.ndarray\n",
    "            Матрица признаков обучающей выборки\n",
    "        y_train : numpy.ndarray\n",
    "            Вектор целевого признака обучающей выборки\n",
    "        \"\"\"\n",
    "        X = np.concatenate((np.ones((X_train.shape[0], 1)), X_train), axis=1) # Добавляем столбец из единиц для коэффициента w0\n",
    "        y = y_train\n",
    "        w = np.linalg.inv(X.T.dot(X)).dot(X.T).dot(y) # Вычисляем веса с помощью нормального уравнения линейной регрессии\n",
    "        \n",
    "        # Сохраняем параметры модели\n",
    "        self.w = w[1:]\n",
    "        self.w0 = w[0]\n",
    "        \n",
    "    def predict(self, X_test) -> np.array:\n",
    "        \"\"\"\n",
    "        Предсказывает целевой признак.\n",
    "        \n",
    "        Параметры:\n",
    "        X_test : numpy.ndarray\n",
    "            Матрица признаков тестовой выборки\n",
    "            \n",
    "        Возвращает:\n",
    "        numpy.ndarray\n",
    "            Вектор предсказаний модели\n",
    "        \"\"\"\n",
    "        return X_test.dot(self.w) + self.w0"
   ]
  },
  {
   "cell_type": "code",
   "execution_count": 9,
   "metadata": {},
   "outputs": [
    {
     "name": "stdout",
     "output_type": "stream",
     "text": [
      "R2_train_score 0.42\n",
      "R2_test_score 0.43\n"
     ]
    }
   ],
   "source": [
    "# проверим исходное качество.\n",
    "model = LinearRegression()\n",
    "model.fit(X_train, y_train)\n",
    "predictions = model.predict(X_test)\n",
    "print('R2_train_score', round(r2_score(y_train, model.predict(X_train)), 2))\n",
    "print('R2_test_score', round(r2_score(y_test, predictions), 2))"
   ]
  },
  {
   "cell_type": "markdown",
   "metadata": {},
   "source": [
    "### Преобразование исходных данных и повторное обучение модели."
   ]
  },
  {
   "cell_type": "code",
   "execution_count": 12,
   "metadata": {},
   "outputs": [],
   "source": [
    "def generate_invertible_matrix(n, seed=42):\n",
    "    \"\"\"\n",
    "    Функция для генерации обратимой матрицы n x n со значениями из нормального распределения.\n",
    "    \n",
    "    Параметры:\n",
    "    n (int): размер матрицы.\n",
    "    seed (int): зерно для генератора случайных чисел (по умолчанию 42).\n",
    "    \n",
    "    Возвращает:\n",
    "    P (ndarray): обратимая матрица размера n x n.\n",
    "    \"\"\"\n",
    "    # устанавливаем зерно для генератора случайных чисел\n",
    "    np.random.seed(seed)\n",
    "    \n",
    "    # параметры нормального распределения\n",
    "    mu = 0\n",
    "    sigma = 0.01\n",
    "    \n",
    "    # в цикле генерируем матрицы, пока не получим обратимую\n",
    "    while True:\n",
    "        P = np.random.normal(mu, sigma, (n, n))\n",
    "        # если определитель матрицы не равен нулю, то матрица обратима\n",
    "        if np.linalg.det(P) != 0:\n",
    "            return P\n",
    "\n",
    "# пример использования функции\n",
    "P = generate_invertible_matrix(4)"
   ]
  },
  {
   "cell_type": "code",
   "execution_count": 13,
   "metadata": {},
   "outputs": [],
   "source": [
    "features = df.iloc[:, :-1] # отберём все столбцы\n",
    "df_encoding = pd.DataFrame(np.dot(features, P), columns = features.columns) # создадим дата-фрейм, с признакми\n",
    "df_encoding['Страховые выплаты'] = df.iloc[:, -1:] # добавим целевой признак\n",
    "\n",
    "X_train_enc, X_test_enc, y_train_enc, y_test_enc = data_split(df_encoding) # применим фун-цию разделения кода."
   ]
  },
  {
   "cell_type": "code",
   "execution_count": 14,
   "metadata": {},
   "outputs": [
    {
     "name": "stdout",
     "output_type": "stream",
     "text": [
      "R2_train_score 0.42\n",
      "R2_test_score 0.43\n"
     ]
    }
   ],
   "source": [
    "# снова инциаилизируем класс и проверим, изменились ли результаты.\n",
    "model = LinearRegression()\n",
    "model.fit(X_train_enc, y_train_enc)\n",
    "predictions_enc = model.predict(X_test_enc)\n",
    "print('R2_train_score', round(r2_score(y_train_enc, model.predict(X_train_enc)), 2))\n",
    "print('R2_test_score', round(r2_score(y_test_enc, predictions_enc), 2))"
   ]
  },
  {
   "cell_type": "code",
   "execution_count": 24,
   "metadata": {},
   "outputs": [
    {
     "data": {
      "text/html": [
       "<div>\n",
       "<style scoped>\n",
       "    .dataframe tbody tr th:only-of-type {\n",
       "        vertical-align: middle;\n",
       "    }\n",
       "\n",
       "    .dataframe tbody tr th {\n",
       "        vertical-align: top;\n",
       "    }\n",
       "\n",
       "    .dataframe thead th {\n",
       "        text-align: right;\n",
       "    }\n",
       "</style>\n",
       "<table border=\"1\" class=\"dataframe\">\n",
       "  <thead>\n",
       "    <tr style=\"text-align: right;\">\n",
       "      <th></th>\n",
       "      <th>Пол</th>\n",
       "      <th>Возраст</th>\n",
       "      <th>Зарплата</th>\n",
       "      <th>Члены семьи</th>\n",
       "      <th>Страховые выплаты</th>\n",
       "    </tr>\n",
       "  </thead>\n",
       "  <tbody>\n",
       "    <tr>\n",
       "      <th>0</th>\n",
       "      <td>-232.947912</td>\n",
       "      <td>268.993270</td>\n",
       "      <td>-229.218471</td>\n",
       "      <td>-230.677702</td>\n",
       "      <td>0</td>\n",
       "    </tr>\n",
       "    <tr>\n",
       "      <th>1</th>\n",
       "      <td>-178.505558</td>\n",
       "      <td>206.045981</td>\n",
       "      <td>-175.389535</td>\n",
       "      <td>-176.629909</td>\n",
       "      <td>1</td>\n",
       "    </tr>\n",
       "    <tr>\n",
       "      <th>2</th>\n",
       "      <td>-98.657526</td>\n",
       "      <td>113.869709</td>\n",
       "      <td>-96.859744</td>\n",
       "      <td>-97.580692</td>\n",
       "      <td>0</td>\n",
       "    </tr>\n",
       "    <tr>\n",
       "      <th>3</th>\n",
       "      <td>-195.815152</td>\n",
       "      <td>226.160104</td>\n",
       "      <td>-192.948042</td>\n",
       "      <td>-194.059392</td>\n",
       "      <td>0</td>\n",
       "    </tr>\n",
       "    <tr>\n",
       "      <th>4</th>\n",
       "      <td>-122.593411</td>\n",
       "      <td>141.541230</td>\n",
       "      <td>-120.503361</td>\n",
       "      <td>-121.325354</td>\n",
       "      <td>0</td>\n",
       "    </tr>\n",
       "  </tbody>\n",
       "</table>\n",
       "</div>"
      ],
      "text/plain": [
       "          Пол     Возраст    Зарплата  Члены семьи  Страховые выплаты\n",
       "0 -232.947912  268.993270 -229.218471  -230.677702                  0\n",
       "1 -178.505558  206.045981 -175.389535  -176.629909                  1\n",
       "2  -98.657526  113.869709  -96.859744   -97.580692                  0\n",
       "3 -195.815152  226.160104 -192.948042  -194.059392                  0\n",
       "4 -122.593411  141.541230 -120.503361  -121.325354                  0"
      ]
     },
     "execution_count": 24,
     "metadata": {},
     "output_type": "execute_result"
    }
   ],
   "source": [
    "df_encoding.head(5)"
   ]
  },
  {
   "cell_type": "markdown",
   "metadata": {},
   "source": [
    "**В результате, данные стали скрытыми для пользователей, а качество обучения модели не изменилось.**\n",
    "\n",
    "Чтобы проеобразовать признаки обратно, нужно домножить преобразовую матрицу на обратную обращённой матрицы."
   ]
  },
  {
   "cell_type": "code",
   "execution_count": 36,
   "metadata": {},
   "outputs": [
    {
     "data": {
      "text/html": [
       "<div>\n",
       "<style scoped>\n",
       "    .dataframe tbody tr th:only-of-type {\n",
       "        vertical-align: middle;\n",
       "    }\n",
       "\n",
       "    .dataframe tbody tr th {\n",
       "        vertical-align: top;\n",
       "    }\n",
       "\n",
       "    .dataframe thead th {\n",
       "        text-align: right;\n",
       "    }\n",
       "</style>\n",
       "<table border=\"1\" class=\"dataframe\">\n",
       "  <thead>\n",
       "    <tr style=\"text-align: right;\">\n",
       "      <th></th>\n",
       "      <th>Пол</th>\n",
       "      <th>Возраст</th>\n",
       "      <th>Зарплата</th>\n",
       "      <th>Члены семьи</th>\n",
       "    </tr>\n",
       "  </thead>\n",
       "  <tbody>\n",
       "    <tr>\n",
       "      <th>0</th>\n",
       "      <td>0</td>\n",
       "      <td>41.0</td>\n",
       "      <td>49600.0</td>\n",
       "      <td>1</td>\n",
       "    </tr>\n",
       "    <tr>\n",
       "      <th>1</th>\n",
       "      <td>0</td>\n",
       "      <td>46.0</td>\n",
       "      <td>38000.0</td>\n",
       "      <td>1</td>\n",
       "    </tr>\n",
       "    <tr>\n",
       "      <th>2</th>\n",
       "      <td>0</td>\n",
       "      <td>29.0</td>\n",
       "      <td>21000.0</td>\n",
       "      <td>0</td>\n",
       "    </tr>\n",
       "    <tr>\n",
       "      <th>3</th>\n",
       "      <td>0</td>\n",
       "      <td>21.0</td>\n",
       "      <td>41700.0</td>\n",
       "      <td>2</td>\n",
       "    </tr>\n",
       "    <tr>\n",
       "      <th>4</th>\n",
       "      <td>0</td>\n",
       "      <td>28.0</td>\n",
       "      <td>26100.0</td>\n",
       "      <td>0</td>\n",
       "    </tr>\n",
       "  </tbody>\n",
       "</table>\n",
       "</div>"
      ],
      "text/plain": [
       "   Пол  Возраст  Зарплата  Члены семьи\n",
       "0    0     41.0   49600.0            1\n",
       "1    0     46.0   38000.0            1\n",
       "2    0     29.0   21000.0            0\n",
       "3    0     21.0   41700.0            2\n",
       "4    0     28.0   26100.0            0"
      ]
     },
     "execution_count": 36,
     "metadata": {},
     "output_type": "execute_result"
    }
   ],
   "source": [
    "P_inv = np.linalg.inv(P)\n",
    "df_original = df_encoding[features.columns].dot(P_inv)\n",
    "df_original.columns = features.columns\n",
    "\n",
    "df_original['Пол'] = df_original['Пол'].astype('int')\n",
    "df_original['Члены семьи'] = df_original['Члены семьи'].astype('int')\n",
    "\n",
    "df_original.head(5)"
   ]
  },
  {
   "cell_type": "code",
   "execution_count": 39,
   "metadata": {},
   "outputs": [
    {
     "data": {
      "text/html": [
       "<div>\n",
       "<style scoped>\n",
       "    .dataframe tbody tr th:only-of-type {\n",
       "        vertical-align: middle;\n",
       "    }\n",
       "\n",
       "    .dataframe tbody tr th {\n",
       "        vertical-align: top;\n",
       "    }\n",
       "\n",
       "    .dataframe thead th {\n",
       "        text-align: right;\n",
       "    }\n",
       "</style>\n",
       "<table border=\"1\" class=\"dataframe\">\n",
       "  <thead>\n",
       "    <tr style=\"text-align: right;\">\n",
       "      <th></th>\n",
       "      <th>Пол</th>\n",
       "      <th>Возраст</th>\n",
       "      <th>Зарплата</th>\n",
       "      <th>Члены семьи</th>\n",
       "    </tr>\n",
       "  </thead>\n",
       "  <tbody>\n",
       "    <tr>\n",
       "      <th>0</th>\n",
       "      <td>1</td>\n",
       "      <td>41.0</td>\n",
       "      <td>49600.0</td>\n",
       "      <td>1</td>\n",
       "    </tr>\n",
       "    <tr>\n",
       "      <th>1</th>\n",
       "      <td>0</td>\n",
       "      <td>46.0</td>\n",
       "      <td>38000.0</td>\n",
       "      <td>1</td>\n",
       "    </tr>\n",
       "    <tr>\n",
       "      <th>2</th>\n",
       "      <td>0</td>\n",
       "      <td>29.0</td>\n",
       "      <td>21000.0</td>\n",
       "      <td>0</td>\n",
       "    </tr>\n",
       "    <tr>\n",
       "      <th>3</th>\n",
       "      <td>0</td>\n",
       "      <td>21.0</td>\n",
       "      <td>41700.0</td>\n",
       "      <td>2</td>\n",
       "    </tr>\n",
       "    <tr>\n",
       "      <th>4</th>\n",
       "      <td>1</td>\n",
       "      <td>28.0</td>\n",
       "      <td>26100.0</td>\n",
       "      <td>0</td>\n",
       "    </tr>\n",
       "  </tbody>\n",
       "</table>\n",
       "</div>"
      ],
      "text/plain": [
       "   Пол  Возраст  Зарплата  Члены семьи\n",
       "0    1     41.0   49600.0            1\n",
       "1    0     46.0   38000.0            1\n",
       "2    0     29.0   21000.0            0\n",
       "3    0     21.0   41700.0            2\n",
       "4    1     28.0   26100.0            0"
      ]
     },
     "execution_count": 39,
     "metadata": {},
     "output_type": "execute_result"
    }
   ],
   "source": [
    "df[features.columns].head(5)"
   ]
  }
 ],
 "metadata": {
  "ExecuteTimeLog": [
   {
    "duration": 6580,
    "start_time": "2023-06-05T06:17:55.051Z"
   },
   {
    "duration": 201,
    "start_time": "2023-06-05T06:18:01.634Z"
   },
   {
    "duration": 52,
    "start_time": "2023-06-05T06:18:52.677Z"
   },
   {
    "duration": 21,
    "start_time": "2023-06-05T06:18:55.344Z"
   },
   {
    "duration": 12,
    "start_time": "2023-06-05T06:18:55.932Z"
   },
   {
    "duration": 440,
    "start_time": "2023-06-05T06:18:57.062Z"
   },
   {
    "duration": 9,
    "start_time": "2023-06-05T06:21:51.663Z"
   },
   {
    "duration": 7,
    "start_time": "2023-06-05T06:21:52.729Z"
   },
   {
    "duration": 91,
    "start_time": "2023-06-05T06:21:54.267Z"
   },
   {
    "duration": 2951,
    "start_time": "2023-06-05T19:12:19.296Z"
   },
   {
    "duration": 149,
    "start_time": "2023-06-05T19:12:22.249Z"
   },
   {
    "duration": 11,
    "start_time": "2023-06-05T19:12:22.955Z"
   },
   {
    "duration": 12,
    "start_time": "2023-06-05T19:12:23.458Z"
   },
   {
    "duration": 415,
    "start_time": "2023-06-05T19:12:24.389Z"
   }
  ],
  "kernelspec": {
   "display_name": "Python 3 (ipykernel)",
   "language": "python",
   "name": "python3"
  },
  "language_info": {
   "codemirror_mode": {
    "name": "ipython",
    "version": 3
   },
   "file_extension": ".py",
   "mimetype": "text/x-python",
   "name": "python",
   "nbconvert_exporter": "python",
   "pygments_lexer": "ipython3",
   "version": "3.9.13"
  },
  "toc": {
   "base_numbering": 1,
   "nav_menu": {},
   "number_sections": true,
   "sideBar": true,
   "skip_h1_title": true,
   "title_cell": "Содержание",
   "title_sidebar": "Contents",
   "toc_cell": true,
   "toc_position": {
    "height": "calc(100% - 180px)",
    "left": "10px",
    "top": "150px",
    "width": "165px"
   },
   "toc_section_display": true,
   "toc_window_display": true
  }
 },
 "nbformat": 4,
 "nbformat_minor": 2
}
